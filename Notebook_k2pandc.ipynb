{
 "cells": [
  {
   "cell_type": "code",
   "execution_count": 1,
   "id": "ac232977",
   "metadata": {},
   "outputs": [],
   "source": [
    "import torch\n",
    "from sklearn.preprocessing import StandardScaler\n",
    "from sklearn.model_selection import train_test_split\n",
    "import numpy as np\n",
    "from torch.utils.data import DataLoader, TensorDataset\n",
    "import pandas as pd\n",
    "from sklearn.calibration import LabelEncoder"
   ]
  },
  {
   "cell_type": "code",
   "execution_count": 2,
   "id": "77dd3ea9",
   "metadata": {},
   "outputs": [
    {
     "name": "stdout",
     "output_type": "stream",
     "text": [
      "<class 'pandas.core.frame.DataFrame'>\n",
      "RangeIndex: 4004 entries, 0 to 4003\n",
      "Data columns (total 95 columns):\n",
      " #   Column           Non-Null Count  Dtype  \n",
      "---  ------           --------------  -----  \n",
      " 0   loc_rowid        4004 non-null   int64  \n",
      " 1   pl_name          4004 non-null   object \n",
      " 2   hostname         4004 non-null   object \n",
      " 3   default_flag     4004 non-null   int64  \n",
      " 4   disposition      4004 non-null   object \n",
      " 5   disp_refname     4004 non-null   object \n",
      " 6   sy_snum          4004 non-null   int64  \n",
      " 7   sy_pnum          4004 non-null   int64  \n",
      " 8   discoverymethod  4004 non-null   object \n",
      " 9   disc_year        4004 non-null   int64  \n",
      " 10  disc_facility    4004 non-null   object \n",
      " 11  soltype          4004 non-null   object \n",
      " 12  pl_controv_flag  4004 non-null   int64  \n",
      " 13  pl_refname       4004 non-null   object \n",
      " 14  pl_orbper        3960 non-null   float64\n",
      " 15  pl_orbpererr1    3071 non-null   float64\n",
      " 16  pl_orbpererr2    3071 non-null   float64\n",
      " 17  pl_orbperlim     3960 non-null   float64\n",
      " 18  pl_orbsmax       820 non-null    float64\n",
      " 19  pl_orbsmaxerr1   813 non-null    float64\n",
      " 20  pl_orbsmaxerr2   813 non-null    float64\n",
      " 21  pl_orbsmaxlim    820 non-null    float64\n",
      " 22  pl_rade          3173 non-null   float64\n",
      " 23  pl_radeerr1      2887 non-null   float64\n",
      " 24  pl_radeerr2      2887 non-null   float64\n",
      " 25  pl_radelim       3173 non-null   float64\n",
      " 26  pl_radj          3173 non-null   float64\n",
      " 27  pl_radjerr1      2887 non-null   float64\n",
      " 28  pl_radjerr2      2887 non-null   float64\n",
      " 29  pl_radjlim       3173 non-null   float64\n",
      " 30  pl_bmasse        435 non-null    float64\n",
      " 31  pl_bmasseerr1    393 non-null    float64\n",
      " 32  pl_bmasseerr2    393 non-null    float64\n",
      " 33  pl_bmasselim     435 non-null    float64\n",
      " 34  pl_bmassj        435 non-null    float64\n",
      " 35  pl_bmassjerr1    393 non-null    float64\n",
      " 36  pl_bmassjerr2    393 non-null    float64\n",
      " 37  pl_bmassjlim     435 non-null    float64\n",
      " 38  pl_bmassprov     435 non-null    object \n",
      " 39  pl_orbeccen      429 non-null    float64\n",
      " 40  pl_orbeccenerr1  226 non-null    float64\n",
      " 41  pl_orbeccenerr2  226 non-null    float64\n",
      " 42  pl_orbeccenlim   429 non-null    float64\n",
      " 43  pl_insol         630 non-null    float64\n",
      " 44  pl_insolerr1     447 non-null    float64\n",
      " 45  pl_insolerr2     447 non-null    float64\n",
      " 46  pl_insollim      630 non-null    float64\n",
      " 47  pl_eqt           854 non-null    float64\n",
      " 48  pl_eqterr1       685 non-null    float64\n",
      " 49  pl_eqterr2       685 non-null    float64\n",
      " 50  pl_eqtlim        854 non-null    float64\n",
      " 51  ttv_flag         4004 non-null   int64  \n",
      " 52  st_refname       3988 non-null   object \n",
      " 53  st_spectype      437 non-null    object \n",
      " 54  st_teff          2892 non-null   float64\n",
      " 55  st_tefferr1      2584 non-null   float64\n",
      " 56  st_tefferr2      2578 non-null   float64\n",
      " 57  st_tefflim       2892 non-null   float64\n",
      " 58  st_rad           3874 non-null   float64\n",
      " 59  st_raderr1       3242 non-null   float64\n",
      " 60  st_raderr2       3236 non-null   float64\n",
      " 61  st_radlim        3874 non-null   float64\n",
      " 62  st_mass          2102 non-null   float64\n",
      " 63  st_masserr1      1946 non-null   float64\n",
      " 64  st_masserr2      1940 non-null   float64\n",
      " 65  st_masslim       2102 non-null   float64\n",
      " 66  st_met           1698 non-null   float64\n",
      " 67  st_meterr1       1667 non-null   float64\n",
      " 68  st_meterr2       1667 non-null   float64\n",
      " 69  st_metlim        1698 non-null   float64\n",
      " 70  st_metratio      1695 non-null   object \n",
      " 71  st_logg          2356 non-null   float64\n",
      " 72  st_loggerr1      2143 non-null   float64\n",
      " 73  st_loggerr2      2143 non-null   float64\n",
      " 74  st_logglim       2356 non-null   float64\n",
      " 75  sy_refname       4004 non-null   object \n",
      " 76  rastr            4004 non-null   object \n",
      " 77  ra               4004 non-null   float64\n",
      " 78  decstr           4004 non-null   object \n",
      " 79  dec              4004 non-null   float64\n",
      " 80  sy_dist          3879 non-null   float64\n",
      " 81  sy_disterr1      3748 non-null   float64\n",
      " 82  sy_disterr2      3748 non-null   float64\n",
      " 83  sy_vmag          3962 non-null   float64\n",
      " 84  sy_vmagerr1      3962 non-null   float64\n",
      " 85  sy_vmagerr2      3962 non-null   float64\n",
      " 86  sy_kmag          3981 non-null   float64\n",
      " 87  sy_kmagerr1      3973 non-null   float64\n",
      " 88  sy_kmagerr2      3973 non-null   float64\n",
      " 89  sy_gaiamag       3948 non-null   float64\n",
      " 90  sy_gaiamagerr1   3948 non-null   float64\n",
      " 91  sy_gaiamagerr2   3948 non-null   float64\n",
      " 92  rowupdate        4004 non-null   object \n",
      " 93  pl_pubdate       4004 non-null   object \n",
      " 94  releasedate      4004 non-null   object \n",
      "dtypes: float64(70), int64(7), object(18)\n",
      "memory usage: 2.9+ MB\n",
      "None\n"
     ]
    },
    {
     "name": "stderr",
     "output_type": "stream",
     "text": [
      "<>:4: SyntaxWarning: invalid escape sequence '\\k'\n",
      "<>:4: SyntaxWarning: invalid escape sequence '\\k'\n",
      "C:\\Users\\omars\\AppData\\Local\\Temp\\ipykernel_6928\\2648270706.py:4: SyntaxWarning: invalid escape sequence '\\k'\n",
      "  df = pd.read_csv('Data\\k2pandc final.csv')\n"
     ]
    }
   ],
   "source": [
    "# -------------------------------\n",
    "# 1. Load dataset\n",
    "# -------------------------------\n",
    "df = pd.read_csv('Data\\k2pandc final.csv')\n",
    "print(df.info())"
   ]
  },
  {
   "cell_type": "code",
   "execution_count": 3,
   "id": "9786f101",
   "metadata": {
    "vscode": {
     "languageId": "ruby"
    }
   },
   "outputs": [],
   "source": [
    "# -------------------------------\n",
    "# 2. Handle missing values (improved)\n",
    "# -------------------------------\n",
    "missing_pct = df.isnull().mean() * 100\n",
    "\n",
    "# Drop columns with >50% missing values\n",
    "cols_to_drop = missing_pct[missing_pct > 50].index\n",
    "df = df.drop(columns=cols_to_drop)\n",
    "\n",
    "# Update num_cols and cat_cols after dropping columns\n",
    "num_cols = df.select_dtypes(include=['float64', 'int64']).columns\n",
    "cat_cols = df.select_dtypes(include=['object', 'category', 'bool']).columns\n",
    "\n",
    "# Fill numerical columns with median\n",
    "df[num_cols] = df[num_cols].fillna(df[num_cols].median())\n",
    "\n",
    "# Fill categorical columns with mode\n",
    "for col in cat_cols:\n",
    "    mode = df[col].mode()\n",
    "    df[col] = df[col].fillna(mode[0] if not mode.empty else 'Unknown')"
   ]
  },
  {
   "cell_type": "code",
   "execution_count": 4,
   "id": "b61a7aad",
   "metadata": {
    "vscode": {
     "languageId": "ruby"
    }
   },
   "outputs": [
    {
     "name": "stdout",
     "output_type": "stream",
     "text": [
      "<class 'pandas.core.frame.DataFrame'>\n",
      "RangeIndex: 4004 entries, 0 to 4003\n",
      "Data columns (total 62 columns):\n",
      " #   Column           Non-Null Count  Dtype  \n",
      "---  ------           --------------  -----  \n",
      " 0   loc_rowid        4004 non-null   int64  \n",
      " 1   pl_name          4004 non-null   object \n",
      " 2   hostname         4004 non-null   object \n",
      " 3   default_flag     4004 non-null   int64  \n",
      " 4   disposition      4004 non-null   object \n",
      " 5   disp_refname     4004 non-null   object \n",
      " 6   sy_snum          4004 non-null   int64  \n",
      " 7   sy_pnum          4004 non-null   int64  \n",
      " 8   discoverymethod  4004 non-null   object \n",
      " 9   disc_year        4004 non-null   int64  \n",
      " 10  disc_facility    4004 non-null   object \n",
      " 11  soltype          4004 non-null   object \n",
      " 12  pl_controv_flag  4004 non-null   int64  \n",
      " 13  pl_refname       4004 non-null   object \n",
      " 14  pl_orbper        4004 non-null   float64\n",
      " 15  pl_orbpererr1    4004 non-null   float64\n",
      " 16  pl_orbpererr2    4004 non-null   float64\n",
      " 17  pl_orbperlim     4004 non-null   float64\n",
      " 18  pl_rade          4004 non-null   float64\n",
      " 19  pl_radeerr1      4004 non-null   float64\n",
      " 20  pl_radeerr2      4004 non-null   float64\n",
      " 21  pl_radelim       4004 non-null   float64\n",
      " 22  pl_radj          4004 non-null   float64\n",
      " 23  pl_radjerr1      4004 non-null   float64\n",
      " 24  pl_radjerr2      4004 non-null   float64\n",
      " 25  pl_radjlim       4004 non-null   float64\n",
      " 26  ttv_flag         4004 non-null   int64  \n",
      " 27  st_refname       4004 non-null   object \n",
      " 28  st_teff          4004 non-null   float64\n",
      " 29  st_tefferr1      4004 non-null   float64\n",
      " 30  st_tefferr2      4004 non-null   float64\n",
      " 31  st_tefflim       4004 non-null   float64\n",
      " 32  st_rad           4004 non-null   float64\n",
      " 33  st_raderr1       4004 non-null   float64\n",
      " 34  st_raderr2       4004 non-null   float64\n",
      " 35  st_radlim        4004 non-null   float64\n",
      " 36  st_mass          4004 non-null   float64\n",
      " 37  st_masslim       4004 non-null   float64\n",
      " 38  st_logg          4004 non-null   float64\n",
      " 39  st_loggerr1      4004 non-null   float64\n",
      " 40  st_loggerr2      4004 non-null   float64\n",
      " 41  st_logglim       4004 non-null   float64\n",
      " 42  sy_refname       4004 non-null   object \n",
      " 43  rastr            4004 non-null   object \n",
      " 44  ra               4004 non-null   float64\n",
      " 45  decstr           4004 non-null   object \n",
      " 46  dec              4004 non-null   float64\n",
      " 47  sy_dist          4004 non-null   float64\n",
      " 48  sy_disterr1      4004 non-null   float64\n",
      " 49  sy_disterr2      4004 non-null   float64\n",
      " 50  sy_vmag          4004 non-null   float64\n",
      " 51  sy_vmagerr1      4004 non-null   float64\n",
      " 52  sy_vmagerr2      4004 non-null   float64\n",
      " 53  sy_kmag          4004 non-null   float64\n",
      " 54  sy_kmagerr1      4004 non-null   float64\n",
      " 55  sy_kmagerr2      4004 non-null   float64\n",
      " 56  sy_gaiamag       4004 non-null   float64\n",
      " 57  sy_gaiamagerr1   4004 non-null   float64\n",
      " 58  sy_gaiamagerr2   4004 non-null   float64\n",
      " 59  rowupdate        4004 non-null   object \n",
      " 60  pl_pubdate       4004 non-null   object \n",
      " 61  releasedate      4004 non-null   object \n",
      "dtypes: float64(40), int64(7), object(15)\n",
      "memory usage: 1.9+ MB\n"
     ]
    }
   ],
   "source": [
    "df.info()"
   ]
  },
  {
   "cell_type": "code",
   "execution_count": 5,
   "id": "75259bd9",
   "metadata": {},
   "outputs": [],
   "source": [
    "# -------------------------------\n",
    "# 3. Scale numerical features\n",
    "# -------------------------------\n",
    "df_scaled = df.copy()\n",
    "num_cols = df_scaled.select_dtypes(include=['float64', 'int64']).columns\n",
    "scaler = StandardScaler()\n",
    "df_scaled[num_cols] = scaler.fit_transform(df_scaled[num_cols])"
   ]
  },
  {
   "cell_type": "code",
   "execution_count": 6,
   "id": "8f607fad",
   "metadata": {},
   "outputs": [],
   "source": [
    "# -------------------------------\n",
    "# 4. Encode categorical features\n",
    "# -------------------------------\n",
    "\n",
    "df_encoded = df_scaled.copy()\n",
    "cat_cols = df_encoded.select_dtypes(include=['object', 'category', 'bool']).columns\n",
    "\n",
    "le_dict = {}\n",
    "for col in cat_cols:\n",
    "    le = LabelEncoder()\n",
    "    df_encoded[col] = le.fit_transform(df_encoded[col].fillna('NaN_Label'))\n",
    "    le_dict[col] = le"
   ]
  },
  {
   "cell_type": "code",
   "execution_count": 8,
   "id": "e3d39068",
   "metadata": {},
   "outputs": [],
   "source": [
    "# -------------------------------\n",
    "# 5. Feature selection (correlation + importance)\n",
    "# -------------------------------\n",
    "from sklearn.ensemble import RandomForestClassifier\n",
    "\n",
    "X = df_encoded.drop(columns=['disposition'])\n",
    "y = df_encoded['disposition']\n",
    "\n",
    "X = pd.get_dummies(X)  # one-hot if needed\n",
    "X_train, _, y_train, _ = train_test_split(X, y, random_state=42)\n",
    "\n",
    "# Correlation\n",
    "corr_with_target = df_encoded.corr(numeric_only=True)['disposition'].drop('disposition').abs()\n",
    "top_corr = corr_with_target.sort_values(ascending=False).head(20).index.tolist()\n",
    "\n",
    "# Random Forest importance\n",
    "rf = RandomForestClassifier(random_state=42)\n",
    "rf.fit(X_train, y_train)\n",
    "importances = pd.Series(rf.feature_importances_, index=X.columns).sort_values(ascending=False)\n",
    "top_importance = importances.head(20).index.tolist()\n",
    "\n",
    "# Combine\n",
    "selected_features = list(set(top_corr + top_importance))\n"
   ]
  },
  {
   "cell_type": "code",
   "execution_count": 9,
   "id": "8acda4b4",
   "metadata": {},
   "outputs": [],
   "source": [
    "# -------------------------------\n",
    "# 6. Build preprocessed dataframe\n",
    "# -------------------------------\n",
    "X = df_encoded.drop(columns=['disposition'])\n",
    "valuable_features_df = X[selected_features]\n",
    "\n",
    "# Add target\n",
    "preprocessed_df = valuable_features_df.copy()\n",
    "preprocessed_df['disposition'] = df_encoded['disposition']\n"
   ]
  },
  {
   "cell_type": "code",
   "execution_count": 16,
   "id": "c1750bb3",
   "metadata": {},
   "outputs": [
    {
     "name": "stdout",
     "output_type": "stream",
     "text": [
      "<class 'pandas.core.frame.DataFrame'>\n",
      "RangeIndex: 4004 entries, 0 to 4003\n",
      "Data columns (total 32 columns):\n",
      " #   Column          Non-Null Count  Dtype  \n",
      "---  ------          --------------  -----  \n",
      " 0   rowupdate       4004 non-null   int64  \n",
      " 1   st_tefferr1     4004 non-null   float64\n",
      " 2   sy_disterr2     4004 non-null   float64\n",
      " 3   sy_vmag         4004 non-null   float64\n",
      " 4   hostname        4004 non-null   int64  \n",
      " 5   pl_rade         4004 non-null   float64\n",
      " 6   sy_gaiamag      4004 non-null   float64\n",
      " 7   soltype         4004 non-null   int64  \n",
      " 8   default_flag    4004 non-null   float64\n",
      " 9   loc_rowid       4004 non-null   float64\n",
      " 10  disp_refname    4004 non-null   int64  \n",
      " 11  disc_year       4004 non-null   float64\n",
      " 12  pl_radeerr2     4004 non-null   float64\n",
      " 13  pl_radjerr2     4004 non-null   float64\n",
      " 14  sy_disterr1     4004 non-null   float64\n",
      " 15  sy_gaiamagerr1  4004 non-null   float64\n",
      " 16  st_refname      4004 non-null   int64  \n",
      " 17  pl_radeerr1     4004 non-null   float64\n",
      " 18  dec             4004 non-null   float64\n",
      " 19  sy_dist         4004 non-null   float64\n",
      " 20  sy_gaiamagerr2  4004 non-null   float64\n",
      " 21  pl_pubdate      4004 non-null   int64  \n",
      " 22  sy_kmag         4004 non-null   float64\n",
      " 23  pl_radj         4004 non-null   float64\n",
      " 24  sy_pnum         4004 non-null   float64\n",
      " 25  pl_radjerr1     4004 non-null   float64\n",
      " 26  st_tefferr2     4004 non-null   float64\n",
      " 27  releasedate     4004 non-null   int64  \n",
      " 28  pl_refname      4004 non-null   int64  \n",
      " 29  pl_name         4004 non-null   int64  \n",
      " 30  ttv_flag        4004 non-null   float64\n",
      " 31  disposition     4004 non-null   int64  \n",
      "dtypes: float64(22), int64(10)\n",
      "memory usage: 1001.1 KB\n"
     ]
    }
   ],
   "source": [
    "preprocessed_df.info()"
   ]
  },
  {
   "cell_type": "code",
   "execution_count": 20,
   "id": "1983b5b1",
   "metadata": {},
   "outputs": [
    {
     "data": {
      "text/plain": [
       "disposition\n",
       "1    2315\n",
       "0    1374\n",
       "2     293\n",
       "3      22\n",
       "Name: count, dtype: int64"
      ]
     },
     "execution_count": 20,
     "metadata": {},
     "output_type": "execute_result"
    }
   ],
   "source": [
    "preprocessed_df['disposition'].value_counts()"
   ]
  },
  {
   "cell_type": "code",
   "execution_count": 28,
   "id": "9b50ed2e",
   "metadata": {},
   "outputs": [],
   "source": [
    "preprocessed_df = preprocessed_df[preprocessed_df['disposition'] != 3].reset_index(drop=True)"
   ]
  },
  {
   "cell_type": "code",
   "execution_count": 29,
   "id": "b6228e85",
   "metadata": {},
   "outputs": [
    {
     "data": {
      "text/plain": [
       "disposition\n",
       "1    2315\n",
       "0    1374\n",
       "2     293\n",
       "Name: count, dtype: int64"
      ]
     },
     "execution_count": 29,
     "metadata": {},
     "output_type": "execute_result"
    }
   ],
   "source": [
    "preprocessed_df['disposition'].value_counts()"
   ]
  },
  {
   "cell_type": "code",
   "execution_count": null,
   "id": "8f543268",
   "metadata": {},
   "outputs": [],
   "source": [
    "# # -------------------------------\n",
    "# # 7. Downsample classes\n",
    "# # -------------------------------\n",
    "# from sklearn.utils import resample\n",
    "\n",
    "# df_downsample = df.copy()\n",
    "# class_counts = df_downsample['disposition'].value_counts()\n",
    "# min_count = class_counts.min()\n",
    "\n",
    "# dfs = []\n",
    "# for cls in class_counts.index:\n",
    "#     cls_df = df_downsample[df_downsample['disposition'] == cls]\n",
    "#     cls_downsampled = resample(cls_df, replace=False, n_samples=min_count, random_state=42)\n",
    "#     dfs.append(cls_downsampled)\n",
    "\n",
    "# df_downsampled = pd.concat(dfs).sample(frac=1, random_state=42).reset_index(drop=True)\n"
   ]
  },
  {
   "cell_type": "code",
   "execution_count": 31,
   "id": "121ee947",
   "metadata": {},
   "outputs": [],
   "source": [
    "from sklearn.model_selection import train_test_split\n",
    "\n",
    "X = preprocessed_df\n",
    "y = preprocessed_df['disposition']\n",
    "\n",
    "X_train, X_test, y_train, y_test = train_test_split(X, y, test_size=0.25, random_state=42, stratify=y)"
   ]
  },
  {
   "cell_type": "code",
   "execution_count": 32,
   "id": "43a40552",
   "metadata": {},
   "outputs": [
    {
     "ename": "NameError",
     "evalue": "name 'device' is not defined",
     "output_type": "error",
     "traceback": [
      "\u001b[31m---------------------------------------------------------------------------\u001b[39m",
      "\u001b[31mNameError\u001b[39m                                 Traceback (most recent call last)",
      "\u001b[36mCell\u001b[39m\u001b[36m \u001b[39m\u001b[32mIn[32]\u001b[39m\u001b[32m, line 28\u001b[39m\n\u001b[32m     21\u001b[39m class_weights = compute_class_weight(\n\u001b[32m     22\u001b[39m     class_weight=\u001b[33m'\u001b[39m\u001b[33mbalanced\u001b[39m\u001b[33m'\u001b[39m,\n\u001b[32m     23\u001b[39m     classes=classes,\n\u001b[32m     24\u001b[39m     y=y_train_np\n\u001b[32m     25\u001b[39m )\n\u001b[32m     27\u001b[39m \u001b[38;5;66;03m# Convert to tensor for PyTorch\u001b[39;00m\n\u001b[32m---> \u001b[39m\u001b[32m28\u001b[39m class_weights = torch.tensor(class_weights, dtype=torch.float32).to(\u001b[43mdevice\u001b[49m)\n\u001b[32m     30\u001b[39m \u001b[38;5;28mprint\u001b[39m(\u001b[33m\"\u001b[39m\u001b[33mClasses:\u001b[39m\u001b[33m\"\u001b[39m, classes)\n\u001b[32m     31\u001b[39m \u001b[38;5;28mprint\u001b[39m(\u001b[33m\"\u001b[39m\u001b[33mClass Weights:\u001b[39m\u001b[33m\"\u001b[39m, class_weights)\n",
      "\u001b[31mNameError\u001b[39m: name 'device' is not defined"
     ]
    }
   ],
   "source": [
    "import torch\n",
    "import torch.nn as nn\n",
    "import torch.nn.functional as F\n",
    "from sklearn.utils.class_weight import compute_class_weight\n",
    "import numpy as np\n",
    "\n",
    "import torch\n",
    "import numpy as np\n",
    "from sklearn.utils.class_weight import compute_class_weight\n",
    "\n",
    "# Ensure y_train is numpy\n",
    "if isinstance(y_train, torch.Tensor):\n",
    "    y_train_np = y_train.cpu().numpy()\n",
    "else:\n",
    "    y_train_np = np.array(y_train)\n",
    "\n",
    "# Get unique classes\n",
    "classes = np.unique(y_train_np)\n",
    "\n",
    "# Compute class weights\n",
    "class_weights = compute_class_weight(\n",
    "    class_weight='balanced',\n",
    "    classes=classes,\n",
    "    y=y_train_np\n",
    ")\n",
    "\n",
    "# Convert to tensor for PyTorch\n",
    "class_weights = torch.tensor(class_weights, dtype=torch.float32).to(device)\n",
    "\n",
    "print(\"Classes:\", classes)\n",
    "print(\"Class Weights:\", class_weights)\n",
    "\n",
    "\n",
    "# ---- Focal Loss with class weights ----\n",
    "class FocalLoss(nn.Module):\n",
    "    def __init__(self, gamma=2.0, alpha=None, reduction='mean'):\n",
    "        super(FocalLoss, self).__init__()\n",
    "        self.gamma = gamma\n",
    "        self.alpha = alpha  # can be class weights tensor\n",
    "        self.reduction = reduction\n",
    "\n",
    "    def forward(self, inputs, targets):\n",
    "        ce_loss = F.cross_entropy(inputs, targets, reduction='none', weight=self.alpha)\n",
    "        pt = torch.exp(-ce_loss)  # probability of true class\n",
    "        focal_loss = (1 - pt) ** self.gamma * ce_loss\n",
    "\n",
    "        if self.reduction == 'mean':\n",
    "            return focal_loss.mean()\n",
    "        elif self.reduction == 'sum':\n",
    "            return focal_loss.sum()\n",
    "        return focal_loss\n",
    "\n",
    "\n",
    "# ---- Initialize with class weights ----\n",
    "loss_fn = FocalLoss(alpha=class_weights, gamma=2.0)\n"
   ]
  },
  {
   "cell_type": "code",
   "execution_count": null,
   "id": "c6491681",
   "metadata": {},
   "outputs": [],
   "source": []
  }
 ],
 "metadata": {
  "kernelspec": {
   "display_name": "Python 3",
   "language": "python",
   "name": "python3"
  },
  "language_info": {
   "codemirror_mode": {
    "name": "ipython",
    "version": 3
   },
   "file_extension": ".py",
   "mimetype": "text/x-python",
   "name": "python",
   "nbconvert_exporter": "python",
   "pygments_lexer": "ipython3",
   "version": "3.13.3"
  }
 },
 "nbformat": 4,
 "nbformat_minor": 5
}
